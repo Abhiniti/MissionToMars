{
 "cells": [
  {
   "cell_type": "code",
   "execution_count": 222,
   "metadata": {},
   "outputs": [],
   "source": [
    "# Dependencies\n",
    "from bs4 import BeautifulSoup\n",
    "import requests\n",
    "from splinter import Browser\n",
    "from selenium import webdriver\n",
    "from selenium.webdriver.support.ui import WebDriverWait\n",
    "from selenium.webdriver.support import expected_conditions as EC\n",
    "import pandas as pd\n",
    "import json"
   ]
  },
  {
   "cell_type": "code",
   "execution_count": 80,
   "metadata": {},
   "outputs": [],
   "source": [
    "executable_path = {'executable_path': 'chromedriver.exe'}\n",
    "browser = Browser('chrome', **executable_path, headless=False)"
   ]
  },
  {
   "cell_type": "markdown",
   "metadata": {},
   "source": [
    "# NASA Mars News"
   ]
  },
  {
   "cell_type": "code",
   "execution_count": 81,
   "metadata": {},
   "outputs": [],
   "source": [
    "# Nasa URL page\n",
    "url = 'https://mars.nasa.gov/news/'\n",
    "browser = webdriver.Chrome()\n",
    "browser.get(url)\n",
    "#delay = 3\n",
    "#WebDriverWait(browser, delay).until(EC.presence_of_element_located(browser.find_element_by_id('...')))\n",
    "\n",
    "# Retrieve page with the requests module\n",
    "response = requests.get(url)"
   ]
  },
  {
   "cell_type": "code",
   "execution_count": 82,
   "metadata": {},
   "outputs": [],
   "source": [
    "# Create BeautifulSoup object; parse with 'html.parser'\n",
    "soup = BeautifulSoup(response.text, 'html.parser')"
   ]
  },
  {
   "cell_type": "code",
   "execution_count": 83,
   "metadata": {},
   "outputs": [],
   "source": [
    "# Results for only TITLES\n",
    "resultsTitle = soup.find_all('div', class_=\"content_title\")"
   ]
  },
  {
   "cell_type": "code",
   "execution_count": 84,
   "metadata": {},
   "outputs": [
    {
     "name": "stdout",
     "output_type": "stream",
     "text": [
      "['\\nOpportunity Hunkers Down During Dust Storm\\n', '\\nNASA Finds Ancient Organic Material, Mysterious Methane on Mars\\n', '\\nNASA Invests in Visionary Technology \\n', '\\nNASA is Ready to Study the Heart of Mars\\n', '\\nNASA Briefing on First Mission to Study Mars Interior\\n', \"\\nNew 'AR' Mobile App Features 3-D NASA Spacecraft\\n\"]\n"
     ]
    }
   ],
   "source": [
    "# Looping through TITLES \n",
    "Titles = []\n",
    "for result in resultsTitle:\n",
    "    # Error handling\n",
    "    try:\n",
    "        # Identify and return title of listing\n",
    "        title = result.find('a').text\n",
    "        Titles.append(title)\n",
    "    except AttributeError as e:\n",
    "        print(e)\n",
    "print(Titles)"
   ]
  },
  {
   "cell_type": "code",
   "execution_count": 85,
   "metadata": {},
   "outputs": [],
   "source": [
    "# Results for DESCRIPTIONS\n",
    "soupDesc = BeautifulSoup(browser.page_source, \"html.parser\")\n",
    "#descriptions = soupPara.find_all('div', class_='article_teaser_body')\n",
    "resultDesc = soupDesc.select(\".article_teaser_body\")\n"
   ]
  },
  {
   "cell_type": "code",
   "execution_count": 86,
   "metadata": {},
   "outputs": [],
   "source": [
    "# Looping through DESCRIPTIONS \n",
    "Descriptions = []\n",
    "#for result in resultDesc:\n",
    "    #print(result.text)\n",
    "\n",
    "\n",
    "\n",
    "for result in resultDesc:\n",
    "    # Error handling\n",
    "    try:\n",
    "        # Identify and return title of listing\n",
    "        Descriptions.append(result.text)\n",
    "        #Titles.append(title)\n",
    "    except AttributeError as e:\n",
    "        print(e)\n",
    "#print(Descriptions)"
   ]
  },
  {
   "cell_type": "markdown",
   "metadata": {},
   "source": [
    "# JPL Mars Space Images"
   ]
  },
  {
   "cell_type": "code",
   "execution_count": 88,
   "metadata": {},
   "outputs": [],
   "source": [
    "urlImages = 'https://www.jpl.nasa.gov/spaceimages/?search=&category=Mars'\n",
    "browser = webdriver.Chrome()\n",
    "browser.get(urlImages)"
   ]
  },
  {
   "cell_type": "code",
   "execution_count": 120,
   "metadata": {},
   "outputs": [
    {
     "name": "stdout",
     "output_type": "stream",
     "text": [
      "https://www.jpl.nasa.gov/spaceimages/images/wallpaper/PIA01384-1920x1200.jpg\n"
     ]
    }
   ],
   "source": [
    "# Results for IMAGES\n",
    "soupImage = BeautifulSoup(browser.page_source, \"html.parser\")\n",
    "resultImage = soupImage.select(\".carousel_items\")\n",
    "\n",
    "for result in resultImage:\n",
    "    # Error handling\n",
    "    try:\n",
    "        # Identify and return title of listing\n",
    "        image = result.select(\"article\")\n",
    "        #print(image)\n",
    "        for img in image:\n",
    "            featured_image_url = \"https://www.jpl.nasa.gov\" + img[\"style\"].split(\"'\")[1]\n",
    "            #Images.append(\"https://www.jpl.nasa.gov\" + img[\"src\"])\n",
    "            #print(img[\"src\"])\n",
    "        #Descriptions.append(result.text)\n",
    "    except AttributeError as e:\n",
    "        print(e)\n",
    "print(featured_image_url)"
   ]
  },
  {
   "cell_type": "markdown",
   "metadata": {},
   "source": [
    "# Mars Weather"
   ]
  },
  {
   "cell_type": "code",
   "execution_count": 121,
   "metadata": {},
   "outputs": [],
   "source": [
    "#Twitter page\n",
    "urlTwitter = 'https://twitter.com/marswxreport?lang=en'\n",
    "browser = webdriver.Chrome()\n",
    "browser.get(urlTwitter)"
   ]
  },
  {
   "cell_type": "code",
   "execution_count": 128,
   "metadata": {},
   "outputs": [],
   "source": [
    "# Results for TWEETS\n",
    "soupTweets = BeautifulSoup(browser.page_source, \"html.parser\")\n",
    "resultTweets = soupTweets.select(\".js-tweet-text-container\")\n",
    "#print(resultTweets)"
   ]
  },
  {
   "cell_type": "code",
   "execution_count": 154,
   "metadata": {},
   "outputs": [
    {
     "name": "stdout",
     "output_type": "stream",
     "text": [
      "Sol 2169 (2018-09-12), high -10C/14F, low -70C/-93F, pressure at 8.82 hPa, daylight 05:41-17:58\n"
     ]
    }
   ],
   "source": [
    "# Looping through TWEETS\n",
    "latestTweet = resultTweets[0].select(\"p\")\n",
    "for tw in latestTweet:\n",
    "    mars_weather = tw.text\n",
    "print(mars_weather)"
   ]
  },
  {
   "cell_type": "markdown",
   "metadata": {},
   "source": [
    "#  Mars Facts"
   ]
  },
  {
   "cell_type": "code",
   "execution_count": 156,
   "metadata": {},
   "outputs": [],
   "source": [
    "urlFacts = 'https://space-facts.com/mars/'"
   ]
  },
  {
   "cell_type": "code",
   "execution_count": 159,
   "metadata": {},
   "outputs": [
    {
     "data": {
      "text/plain": [
       "[                      0                              1\n",
       " 0  Equatorial Diameter:                       6,792 km\n",
       " 1       Polar Diameter:                       6,752 km\n",
       " 2                 Mass:  6.42 x 10^23 kg (10.7% Earth)\n",
       " 3                Moons:            2 (Phobos & Deimos)\n",
       " 4       Orbit Distance:       227,943,824 km (1.52 AU)\n",
       " 5         Orbit Period:           687 days (1.9 years)\n",
       " 6  Surface Temperature:                  -153 to 20 °C\n",
       " 7         First Record:              2nd millennium BC\n",
       " 8          Recorded By:           Egyptian astronomers]"
      ]
     },
     "execution_count": 159,
     "metadata": {},
     "output_type": "execute_result"
    }
   ],
   "source": [
    "#Get Table\n",
    "marsTable = pd.read_html(urlFacts)\n",
    "marsTable"
   ]
  },
  {
   "cell_type": "code",
   "execution_count": 160,
   "metadata": {},
   "outputs": [
    {
     "data": {
      "text/plain": [
       "'<table border=\"1\" class=\"dataframe\">\\n  <thead>\\n    <tr style=\"text-align: right;\">\\n      <th></th>\\n      <th>0</th>\\n      <th>1</th>\\n    </tr>\\n  </thead>\\n  <tbody>\\n    <tr>\\n      <th>0</th>\\n      <td>Equatorial Diameter:</td>\\n      <td>6,792 km</td>\\n    </tr>\\n    <tr>\\n      <th>1</th>\\n      <td>Polar Diameter:</td>\\n      <td>6,752 km</td>\\n    </tr>\\n    <tr>\\n      <th>2</th>\\n      <td>Mass:</td>\\n      <td>6.42 x 10^23 kg (10.7% Earth)</td>\\n    </tr>\\n    <tr>\\n      <th>3</th>\\n      <td>Moons:</td>\\n      <td>2 (Phobos &amp; Deimos)</td>\\n    </tr>\\n    <tr>\\n      <th>4</th>\\n      <td>Orbit Distance:</td>\\n      <td>227,943,824 km (1.52 AU)</td>\\n    </tr>\\n    <tr>\\n      <th>5</th>\\n      <td>Orbit Period:</td>\\n      <td>687 days (1.9 years)</td>\\n    </tr>\\n    <tr>\\n      <th>6</th>\\n      <td>Surface Temperature:</td>\\n      <td>-153 to 20 °C</td>\\n    </tr>\\n    <tr>\\n      <th>7</th>\\n      <td>First Record:</td>\\n      <td>2nd millennium BC</td>\\n    </tr>\\n    <tr>\\n      <th>8</th>\\n      <td>Recorded By:</td>\\n      <td>Egyptian astronomers</td>\\n    </tr>\\n  </tbody>\\n</table>'"
      ]
     },
     "execution_count": 160,
     "metadata": {},
     "output_type": "execute_result"
    }
   ],
   "source": [
    "#Convert to HTML Table string\n",
    "marsTable_df = marsTable[0]\n",
    "mars_html_table = marsTable_df.to_html()\n",
    "mars_html_table"
   ]
  },
  {
   "cell_type": "markdown",
   "metadata": {},
   "source": [
    "# Mars Hemispheres"
   ]
  },
  {
   "cell_type": "code",
   "execution_count": 216,
   "metadata": {},
   "outputs": [],
   "source": [
    "#Hemispheres page\n",
    "urlHemi = 'https://astrogeology.usgs.gov/search/results?q=hemisphere+enhanced&k1=target&v1=Mars'\n",
    "browser = webdriver.Chrome()\n",
    "browser.get(urlHemi)"
   ]
  },
  {
   "cell_type": "code",
   "execution_count": 217,
   "metadata": {},
   "outputs": [
    {
     "data": {
      "text/plain": [
       "{'data': [{'title': 'Cerberus Hemisphere Enhanced',\n",
       "   'img_url': 'http://astropedia.astrogeology.usgs.gov/download/Mars/Viking/cerberus_enhanced.tif/full.jpg'},\n",
       "  {'title': 'Cerberus Hemisphere Enhanced',\n",
       "   'img_url': 'http://astropedia.astrogeology.usgs.gov/download/Mars/Viking/schiaparelli_enhanced.tif/full.jpg'},\n",
       "  {'title': 'Cerberus Hemisphere Enhanced',\n",
       "   'img_url': 'http://astropedia.astrogeology.usgs.gov/download/Mars/Viking/syrtis_major_enhanced.tif/full.jpg'},\n",
       "  {'title': 'Cerberus Hemisphere Enhanced',\n",
       "   'img_url': 'http://astropedia.astrogeology.usgs.gov/download/Mars/Viking/valles_marineris_enhanced.tif/full.jpg'}]}"
      ]
     },
     "execution_count": 217,
     "metadata": {},
     "output_type": "execute_result"
    }
   ],
   "source": [
    "# Results for HEMISPHERES\n",
    "soupHemi = BeautifulSoup(browser.page_source, \"html.parser\")\n",
    "resultHemi = soupHemi.select(\".description\")\n",
    "\n",
    "hemisphere_image_urls = { \"data\":[]}\n",
    "\n",
    "for result in resultHemi:\n",
    "    # Error handling\n",
    "    try:\n",
    "        data = {}\n",
    "        test = result.select(\"h3\")\n",
    "        for ts in test:\n",
    "            data[\"title\"] = ts.text\n",
    "        link = result.select('a')\n",
    "        for lk in link:\n",
    "            fullImgURL = \"https://astrogeology.usgs.gov\" + lk[\"href\"]\n",
    "            browser = webdriver.Chrome()\n",
    "            browser.get(fullImgURL)\n",
    "            # Results for HEMISPHERES\n",
    "            soupfullImg = BeautifulSoup(browser.page_source, \"html.parser\")\n",
    "            resultfullImg = soupfullImg.select(\".downloads\")\n",
    "            for full in resultfullImg:\n",
    "                imgJPG = full.select(\"li\")\n",
    "                final = imgJPG[0].select(\"a\")\n",
    "                for fn in final:\n",
    "                    data[\"img_url\"] = fn[\"href\"]\n",
    "                    #print(fn[\"href\"])\n",
    "            #print(fullImgURL)\n",
    "        #data[\"title\"] = result[\"alt\"]\n",
    "        #data[\"img_url\"] = result[\"src\"]\n",
    "        hemisphere_image_urls[\"data\"].append(data)\n",
    "        #print(result[\"alt\"])\n",
    "\n",
    "    except AttributeError as e:\n",
    "        print(e)\n",
    "hemisphere_image_urls"
   ]
  },
  {
   "cell_type": "markdown",
   "metadata": {},
   "source": [
    "# Store data in JSON dictionary"
   ]
  },
  {
   "cell_type": "code",
   "execution_count": 230,
   "metadata": {},
   "outputs": [
    {
     "data": {
      "text/plain": [
       "{'Mars News Titles': ['\\nOpportunity Hunkers Down During Dust Storm\\n',\n",
       "  '\\nNASA Finds Ancient Organic Material, Mysterious Methane on Mars\\n',\n",
       "  '\\nNASA Invests in Visionary Technology \\n',\n",
       "  '\\nNASA is Ready to Study the Heart of Mars\\n',\n",
       "  '\\nNASA Briefing on First Mission to Study Mars Interior\\n',\n",
       "  \"\\nNew 'AR' Mobile App Features 3-D NASA Spacecraft\\n\"],\n",
       " 'Featured Space Image': 'https://www.jpl.nasa.gov/spaceimages/images/wallpaper/PIA01384-1920x1200.jpg',\n",
       " 'Latest Mars Weather Tweet': 'Sol 2169 (2018-09-12), high -10C/14F, low -70C/-93F, pressure at 8.82 hPa, daylight 05:41-17:58',\n",
       " 'Mars Facts HTML Table': '<table border=\"1\" class=\"dataframe\">\\n  <thead>\\n    <tr style=\"text-align: right;\">\\n      <th></th>\\n      <th>0</th>\\n      <th>1</th>\\n    </tr>\\n  </thead>\\n  <tbody>\\n    <tr>\\n      <th>0</th>\\n      <td>Equatorial Diameter:</td>\\n      <td>6,792 km</td>\\n    </tr>\\n    <tr>\\n      <th>1</th>\\n      <td>Polar Diameter:</td>\\n      <td>6,752 km</td>\\n    </tr>\\n    <tr>\\n      <th>2</th>\\n      <td>Mass:</td>\\n      <td>6.42 x 10^23 kg (10.7% Earth)</td>\\n    </tr>\\n    <tr>\\n      <th>3</th>\\n      <td>Moons:</td>\\n      <td>2 (Phobos &amp; Deimos)</td>\\n    </tr>\\n    <tr>\\n      <th>4</th>\\n      <td>Orbit Distance:</td>\\n      <td>227,943,824 km (1.52 AU)</td>\\n    </tr>\\n    <tr>\\n      <th>5</th>\\n      <td>Orbit Period:</td>\\n      <td>687 days (1.9 years)</td>\\n    </tr>\\n    <tr>\\n      <th>6</th>\\n      <td>Surface Temperature:</td>\\n      <td>-153 to 20 °C</td>\\n    </tr>\\n    <tr>\\n      <th>7</th>\\n      <td>First Record:</td>\\n      <td>2nd millennium BC</td>\\n    </tr>\\n    <tr>\\n      <th>8</th>\\n      <td>Recorded By:</td>\\n      <td>Egyptian astronomers</td>\\n    </tr>\\n  </tbody>\\n</table>',\n",
       " 'Hemisphere Image URLS': {'data': [{'title': 'Cerberus Hemisphere Enhanced',\n",
       "    'img_url': 'http://astropedia.astrogeology.usgs.gov/download/Mars/Viking/cerberus_enhanced.tif/full.jpg'},\n",
       "   {'title': 'Cerberus Hemisphere Enhanced',\n",
       "    'img_url': 'http://astropedia.astrogeology.usgs.gov/download/Mars/Viking/schiaparelli_enhanced.tif/full.jpg'},\n",
       "   {'title': 'Cerberus Hemisphere Enhanced',\n",
       "    'img_url': 'http://astropedia.astrogeology.usgs.gov/download/Mars/Viking/syrtis_major_enhanced.tif/full.jpg'},\n",
       "   {'title': 'Cerberus Hemisphere Enhanced',\n",
       "    'img_url': 'http://astropedia.astrogeology.usgs.gov/download/Mars/Viking/valles_marineris_enhanced.tif/full.jpg'}]}}"
      ]
     },
     "execution_count": 230,
     "metadata": {},
     "output_type": "execute_result"
    }
   ],
   "source": [
    "mars = {}\n",
    "#Mars News Titles\n",
    "mars[\"Mars News Titles\"] = Titles\n",
    "mars[\"Mars_Descriptions\"] = Descriptions\n",
    "mars[\"Featured Space Image\"] = featured_image_url\n",
    "mars[\"Latest Mars Weather Tweet\"] = mars_weather\n",
    "mars[\"Mars Facts HTML Table\"] = mars_html_table\n",
    "mars[\"Hemisphere Image URLS\"] = hemisphere_image_urls\n",
    "mars"
   ]
  },
  {
   "cell_type": "code",
   "execution_count": 241,
   "metadata": {},
   "outputs": [
    {
     "name": "stdout",
     "output_type": "stream",
     "text": [
      "{\n",
      "    \"Featured Space Image\": \"https://www.jpl.nasa.gov/spaceimages/images/wallpaper/PIA01384-1920x1200.jpg\",\n",
      "    \"Hemisphere Image URLS\": {\n",
      "        \"data\": [\n",
      "            {\n",
      "                \"img_url\": \"http://astropedia.astrogeology.usgs.gov/download/Mars/Viking/cerberus_enhanced.tif/full.jpg\",\n",
      "                \"title\": \"Cerberus Hemisphere Enhanced\"\n",
      "            },\n",
      "            {\n",
      "                \"img_url\": \"http://astropedia.astrogeology.usgs.gov/download/Mars/Viking/schiaparelli_enhanced.tif/full.jpg\",\n",
      "                \"title\": \"Cerberus Hemisphere Enhanced\"\n",
      "            },\n",
      "            {\n",
      "                \"img_url\": \"http://astropedia.astrogeology.usgs.gov/download/Mars/Viking/syrtis_major_enhanced.tif/full.jpg\",\n",
      "                \"title\": \"Cerberus Hemisphere Enhanced\"\n",
      "            },\n",
      "            {\n",
      "                \"img_url\": \"http://astropedia.astrogeology.usgs.gov/download/Mars/Viking/valles_marineris_enhanced.tif/full.jpg\",\n",
      "                \"title\": \"Cerberus Hemisphere Enhanced\"\n",
      "            }\n",
      "        ]\n",
      "    },\n",
      "    \"Latest Mars Weather Tweet\": \"Sol 2169 (2018-09-12), high -10C/14F, low -70C/-93F, pressure at 8.82 hPa, daylight 05:41-17:58\",\n",
      "    \"Mars Facts HTML Table\": \"<table border=\\\"1\\\" class=\\\"dataframe\\\">\\n  <thead>\\n    <tr style=\\\"text-align: right;\\\">\\n      <th></th>\\n      <th>0</th>\\n      <th>1</th>\\n    </tr>\\n  </thead>\\n  <tbody>\\n    <tr>\\n      <th>0</th>\\n      <td>Equatorial Diameter:</td>\\n      <td>6,792 km</td>\\n    </tr>\\n    <tr>\\n      <th>1</th>\\n      <td>Polar Diameter:</td>\\n      <td>6,752 km</td>\\n    </tr>\\n    <tr>\\n      <th>2</th>\\n      <td>Mass:</td>\\n      <td>6.42 x 10^23 kg (10.7% Earth)</td>\\n    </tr>\\n    <tr>\\n      <th>3</th>\\n      <td>Moons:</td>\\n      <td>2 (Phobos &amp; Deimos)</td>\\n    </tr>\\n    <tr>\\n      <th>4</th>\\n      <td>Orbit Distance:</td>\\n      <td>227,943,824 km (1.52 AU)</td>\\n    </tr>\\n    <tr>\\n      <th>5</th>\\n      <td>Orbit Period:</td>\\n      <td>687 days (1.9 years)</td>\\n    </tr>\\n    <tr>\\n      <th>6</th>\\n      <td>Surface Temperature:</td>\\n      <td>-153 to 20 \\u00b0C</td>\\n    </tr>\\n    <tr>\\n      <th>7</th>\\n      <td>First Record:</td>\\n      <td>2nd millennium BC</td>\\n    </tr>\\n    <tr>\\n      <th>8</th>\\n      <td>Recorded By:</td>\\n      <td>Egyptian astronomers</td>\\n    </tr>\\n  </tbody>\\n</table>\",\n",
      "    \"Mars News Titles\": [\n",
      "        \"\\nOpportunity Hunkers Down During Dust Storm\\n\",\n",
      "        \"\\nNASA Finds Ancient Organic Material, Mysterious Methane on Mars\\n\",\n",
      "        \"\\nNASA Invests in Visionary Technology \\n\",\n",
      "        \"\\nNASA is Ready to Study the Heart of Mars\\n\",\n",
      "        \"\\nNASA Briefing on First Mission to Study Mars Interior\\n\",\n",
      "        \"\\nNew 'AR' Mobile App Features 3-D NASA Spacecraft\\n\"\n",
      "    ]\n",
      "}\n"
     ]
    }
   ],
   "source": [
    "jsonMars = json.dumps(mars, indent=4, sort_keys=True)\n",
    "print(jsonMars)"
   ]
  },
  {
   "cell_type": "code",
   "execution_count": null,
   "metadata": {},
   "outputs": [],
   "source": []
  }
 ],
 "metadata": {
  "kernelspec": {
   "display_name": "Python [conda env:PythonData]",
   "language": "python",
   "name": "conda-env-PythonData-py"
  },
  "language_info": {
   "codemirror_mode": {
    "name": "ipython",
    "version": 3
   },
   "file_extension": ".py",
   "mimetype": "text/x-python",
   "name": "python",
   "nbconvert_exporter": "python",
   "pygments_lexer": "ipython3",
   "version": "3.6.5"
  }
 },
 "nbformat": 4,
 "nbformat_minor": 2
}
